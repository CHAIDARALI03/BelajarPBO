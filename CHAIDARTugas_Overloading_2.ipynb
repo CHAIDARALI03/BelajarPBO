{
  "nbformat": 4,
  "nbformat_minor": 0,
  "metadata": {
    "colab": {
      "provenance": [],
      "include_colab_link": true
    },
    "kernelspec": {
      "name": "python3",
      "display_name": "Python 3"
    },
    "language_info": {
      "name": "python"
    }
  },
  "cells": [
    {
      "cell_type": "markdown",
      "metadata": {
        "id": "view-in-github",
        "colab_type": "text"
      },
      "source": [
        "<a href=\"https://colab.research.google.com/github/CHAIDARALI03/BelajarPBO/blob/main/CHAIDARTugas_Overloading_2.ipynb\" target=\"_parent\"><img src=\"https://colab.research.google.com/assets/colab-badge.svg\" alt=\"Open In Colab\"/></a>"
      ]
    },
    {
      "cell_type": "code",
      "execution_count": 1,
      "metadata": {
        "id": "5zCytCeM1uD4"
      },
      "outputs": [],
      "source": [
        "#class Nama\n",
        "class nama :\n",
        "  def nama_lengkap(self, *args):\n",
        "        jumlah = \"\"\n",
        "        for angka in args:\n",
        "            jumlah += angka\n",
        "        print(jumlah)\n"
      ]
    },
    {
      "cell_type": "code",
      "source": [
        "#Buat main program\n",
        "nama_lengkap = nama()\n",
        "#Panggil fungsi untuk membuat nama lengkap 4 nama teman kalian\n",
        "nama_lengkap.nama_lengkap(\"Ilham \", \"Syah \", \"Otiv\")\n",
        "nama_lengkap.nama_lengkap(\"Oir \", \"Putra \", \"Santoso\")\n",
        "nama_lengkap.nama_lengkap(\"Syafaq \", \"Suparis \",)\n",
        "nama_lengkap.nama_lengkap(\"Chaidar \", \"Ali \",)\n",
        ""
      ],
      "metadata": {
        "id": "liQBcJWZ12MN",
        "outputId": "ad72702e-4987-4634-8e5b-75eb9f7736fd",
        "colab": {
          "base_uri": "https://localhost:8080/"
        }
      },
      "execution_count": 3,
      "outputs": [
        {
          "output_type": "stream",
          "name": "stdout",
          "text": [
            "Ilham Syah Otiv\n",
            "Oir Putra Santoso\n",
            "Syafaq Suparis \n",
            "Chaidar Ali \n"
          ]
        }
      ]
    },
    {
      "cell_type": "code",
      "source": [
        "Tulisakan kesimpulan dari materi Overloading menurut pemahaman anda!\n",
        "#Overload memiliki nama method yang sama namun berbeda parameter (perintah yang dijalankan bisa jadi sama maupun tidak antara satu dengan yang lainnya)\n"
      ],
      "metadata": {
        "id": "xwFmppIG3JGE"
      },
      "execution_count": null,
      "outputs": []
    }
  ]
}