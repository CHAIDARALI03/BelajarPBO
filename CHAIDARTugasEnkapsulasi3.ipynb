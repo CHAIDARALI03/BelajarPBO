{
  "nbformat": 4,
  "nbformat_minor": 0,
  "metadata": {
    "colab": {
      "provenance": [],
      "include_colab_link": true
    },
    "kernelspec": {
      "name": "python3",
      "display_name": "Python 3"
    },
    "language_info": {
      "name": "python"
    }
  },
  "cells": [
    {
      "cell_type": "markdown",
      "metadata": {
        "id": "view-in-github",
        "colab_type": "text"
      },
      "source": [
        "<a href=\"https://colab.research.google.com/github/CHAIDARALI03/BelajarPBO/blob/main/CHAIDARTugasEnkapsulasi3.ipynb\" target=\"_parent\"><img src=\"https://colab.research.google.com/assets/colab-badge.svg\" alt=\"Open In Colab\"/></a>"
      ]
    },
    {
      "cell_type": "markdown",
      "source": [
        "Buatlah kelas RekeningBank dengan atribut berikut:\n",
        "\n",
        "*   nama_pemilik (private)\n",
        "*   saldo (private)\n",
        "\n",
        "Berikan metode berikut:\n",
        "\n",
        "*   __init__: Menginisialisasi saldo dan nama_pemilik.\n",
        "*   set_saldo: Mengubah nilai saldo.\n",
        "*   get_saldo: Mengembalikan nilai saldo.\n",
        "*   set_nama_pemilik: Mengubah nama pemilik.\n",
        "*   get_nama_pemilik: Mengembalikan nama pemilik.\n",
        "\n",
        "\n",
        "\n",
        "\n",
        "\n",
        "\n",
        "\n",
        "\n"
      ],
      "metadata": {
        "id": "PktiI90eS6Ee"
      }
    },
    {
      "cell_type": "code",
      "source": [
        "# Desain class\n",
        "class RekeningBank:\n",
        "  def __init__(self, nama_pemilik, saldo):\n",
        "    self.__nama_pemilik = nama_pemilik\n",
        "    self.__saldo = saldo\n",
        "\n",
        "  def get_nama_pemilik(self):\n",
        "    return self.__nama_pemilik\n",
        "  def set_nama_pemilik(self, nama_pemilik):\n",
        "    self.__nama_pemilik = nama_pemilik\n",
        "\n",
        "  def get_saldo(self):\n",
        "    return self.__saldo\n",
        "  def set_saldo(self, saldo):\n",
        "    if saldo > 6000000:\n",
        "      self.__saldo = 2000000\n",
        "    elif saldo < 3000000:\n",
        "      self.__saldo = 1000000\n",
        "    else:\n",
        "      self.__saldo = saldo"
      ],
      "metadata": {
        "id": "Pyj-mkyciVfk"
      },
      "execution_count": 1,
      "outputs": []
    },
    {
      "cell_type": "code",
      "source": [
        "#Program utama untuk mendemonstrasikan class RekeningBank\n",
        "#yang menunjukkan penggunaan semua fungsi yang ada\n",
        "# Contoh penggunaan kelas RekeningBank\n",
        "rekening = RekeningBank(\"chaidar\", 6000)\n",
        "\n",
        "# Mengakses saldo dan nama pemilik\n",
        "print(\"Nama Pemilik:\", rekening.get_nama_pemilik())\n",
        "print(\"Saldo Awal:\", rekening.get_saldo())\n",
        "\n",
        "# Mengubah saldo dan nama pemilik\n",
        "rekening.set_saldo(3000)\n",
        "rekening.set_nama_pemilik(\"ali\")\n",
        "\n",
        "# Mengakses saldo dan nama pemilik setelah perubahan\n",
        "print(\"\\nNama Pemilik Baru:\", rekening.get_nama_pemilik())\n",
        "print(\"Saldo Baru:\", rekening.get_saldo())"
      ],
      "metadata": {
        "id": "aOwy6rfdSga2",
        "colab": {
          "base_uri": "https://localhost:8080/"
        },
        "outputId": "3ee2ee07-8188-4248-db55-4a0303179fff"
      },
      "execution_count": 2,
      "outputs": [
        {
          "output_type": "stream",
          "name": "stdout",
          "text": [
            "Nama Pemilik: chaidar\n",
            "Saldo Awal: 6000\n",
            "\n",
            "Nama Pemilik Baru: ali\n",
            "Saldo Baru: 1000000\n"
          ]
        }
      ]
    },
    {
      "cell_type": "code",
      "source": [
        "class RekeningBank:\n",
        "    def __init__(self, nama_pemilik, saldo):\n",
        "        self.__nama_pemilik = nama_pemilik\n",
        "        self.__saldo = saldo\n",
        "\n",
        "    def set_saldo(self, saldo_baru):\n",
        "        self.__saldo = saldo_baru\n",
        "\n",
        "    def get_saldo(self):\n",
        "        return self.__saldo\n",
        "\n",
        "    def set_nama_pemilik(self, nama_baru):\n",
        "        self.__nama_pemilik = nama_baru\n",
        "\n",
        "    def get_nama_pemilik(self):\n",
        "        return self.__nama_pemilik\n",
        "\n",
        "    def setor(self, jumlah):\n",
        "        if jumlah > 0:\n",
        "            self.__saldo += jumlah\n",
        "\n",
        "    def tarik(self, jumlah):\n",
        "        if jumlah > 0 and jumlah <= self.__saldo:\n",
        "            self.__saldo -= jumlah\n",
        "\n",
        "    # Demo program utama\n",
        "rekening = RekeningBank(\"chaidar\", 6000)\n",
        "\n",
        "print(\"Nama Pemilik:\", rekening.get_nama_pemilik())\n",
        "print(\"Saldo Awal:\", rekening.get_saldo())\n",
        "\n",
        "rekening.setor(400)\n",
        "print(\"Saldo setelah setor:\", rekening.get_saldo())\n",
        "\n",
        "rekening.tarik(300)\n",
        "print(\"Saldo setelah tarik:\", rekening.get_saldo())\n",
        "\n",
        "rekening.set_nama_pemilik(\"regi\")\n",
        "print(\"Nama Pemilik Baru:\", rekening.get_nama_pemilik())\n",
        "\n",
        "rekening.tarik(5000)\n",
        "print(\"Saldo setelah tarik:\", rekening.get_saldo())\n",
        ""
      ],
      "metadata": {
        "colab": {
          "base_uri": "https://localhost:8080/"
        },
        "id": "jTr1cNRa-ZEt",
        "outputId": "86df6e01-9084-452a-9957-7876abe6662b"
      },
      "execution_count": 3,
      "outputs": [
        {
          "output_type": "stream",
          "name": "stdout",
          "text": [
            "Nama Pemilik: chaidar\n",
            "Saldo Awal: 6000\n",
            "Saldo setelah setor: 6400\n",
            "Saldo setelah tarik: 6100\n",
            "Nama Pemilik Baru: regi\n",
            "Saldo setelah tarik: 1100\n"
          ]
        }
      ]
    }
  ]
}